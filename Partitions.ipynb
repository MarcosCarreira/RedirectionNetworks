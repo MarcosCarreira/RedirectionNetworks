{
 "cells": [
  {
   "cell_type": "markdown",
   "id": "2eb59516-b8a1-479b-8db5-bd33d764f230",
   "metadata": {},
   "source": [
    "# Redirection Networks - Partitions and number of networks"
   ]
  },
  {
   "cell_type": "markdown",
   "id": "c5cc16a1-f106-4959-be1e-cf8b0f3a13bb",
   "metadata": {},
   "source": [
    "### Marcos Costa Santos Carreira"
   ]
  },
  {
   "cell_type": "markdown",
   "id": "d258afd0-9a0c-4740-9de3-c6e915f6a098",
   "metadata": {
    "incorrectly_encoded_metadata": "jp-MarkdownHeadingCollapsed=true",
    "tags": []
   },
   "source": [
    "## Imports"
   ]
  },
  {
   "cell_type": "code",
   "execution_count": 1,
   "id": "8ce4c66c-eeb3-424a-a468-3cf7d4cb4d38",
   "metadata": {},
   "outputs": [],
   "source": [
    "# import networkx as nx\n",
    "# import random as rd\n",
    "# from fractions import Fraction\n",
    "# from math import factorial, log10\n",
    "# from collections import Counter\n",
    "from collections.abc import Iterable\n",
    "from itertools import permutations\n",
    "# from more_itertools import locate\n",
    "import functools"
   ]
  },
  {
   "cell_type": "code",
   "execution_count": 2,
   "id": "685acd23-6bbf-4d5a-827f-50eb48d90c19",
   "metadata": {},
   "outputs": [],
   "source": [
    "# import numpy as np\n",
    "# import pandas as pd\n",
    "# import matplotlib.pyplot as plt\n",
    "# import seaborn as sns"
   ]
  },
  {
   "cell_type": "code",
   "execution_count": 3,
   "id": "edf0fb79-5c06-4656-af29-6c27262caf68",
   "metadata": {},
   "outputs": [],
   "source": [
    "# from tqdm.notebook import tqdm"
   ]
  },
  {
   "cell_type": "code",
   "execution_count": 4,
   "id": "5de8fda9-b13b-4e77-8ca0-dddd9d92aa63",
   "metadata": {},
   "outputs": [],
   "source": [
    "# from mpl_toolkits.mplot3d import Axes3D"
   ]
  },
  {
   "cell_type": "markdown",
   "id": "645d18d3-c795-4374-aa2c-7c6fbeb0ae43",
   "metadata": {
    "tags": []
   },
   "source": [
    "## Functions"
   ]
  },
  {
   "cell_type": "markdown",
   "id": "fe6bc4d4-0f0d-48b4-ac2a-f8bf4daa0aa8",
   "metadata": {
    "incorrectly_encoded_metadata": "tags=[] jp-MarkdownHeadingCollapsed=true"
   },
   "source": [
    "### Partitions"
   ]
  },
  {
   "cell_type": "markdown",
   "id": "92de4d07-8090-4867-9784-c3454a3de6ee",
   "metadata": {
    "incorrectly_encoded_metadata": "jp-MarkdownHeadingCollapsed=true",
    "tags": []
   },
   "source": [
    "#### Definitions"
   ]
  },
  {
   "cell_type": "markdown",
   "id": "6af30172-b854-4217-ac3c-8e85d6d5c4fe",
   "metadata": {},
   "source": [
    "Generate partitions (code from Jerome Kelleher https://jeromekelleher.net/generating-integer-partitions.html )"
   ]
  },
  {
   "cell_type": "code",
   "execution_count": 5,
   "id": "07a6014b-2f41-453d-a7b8-c9cecc6aa1e2",
   "metadata": {},
   "outputs": [],
   "source": [
    "def accel_asc(n):\n",
    "    a = [0 for i in range(n + 1)]\n",
    "    k = 1\n",
    "    y = n - 1\n",
    "    while k != 0:\n",
    "        x = a[k - 1] + 1\n",
    "        k -= 1\n",
    "        while 2 * x <= y:\n",
    "            a[k] = x\n",
    "            y -= x\n",
    "            k += 1\n",
    "        l = k + 1\n",
    "        while x <= y:\n",
    "            a[k] = x\n",
    "            a[l] = y\n",
    "            yield a[:k + 2]\n",
    "            x += 1\n",
    "            y -= 1\n",
    "        a[k] = x + y\n",
    "        y = x + y - 1\n",
    "        yield a[:k + 1]"
   ]
  },
  {
   "cell_type": "markdown",
   "id": "ec3cb343-2df6-457c-a810-9313eabd753b",
   "metadata": {},
   "source": [
    "We want restricted partitions of 2(N-1)-L with N-L elements rp(j)>=2"
   ]
  },
  {
   "cell_type": "code",
   "execution_count": 6,
   "id": "3c4248ab-9895-4892-816b-ab2272660ec6",
   "metadata": {},
   "outputs": [],
   "source": [
    "def res_par(n, l):\n",
    "    lis_par = list(accel_asc(2 * (n - 1) - l))\n",
    "    sel_par = [p for p in lis_par if (1 not in p) and (len(p) == (n - l))]\n",
    "    return sel_par"
   ]
  },
  {
   "cell_type": "code",
   "execution_count": 7,
   "id": "069639ed-ba2d-4147-bc7d-79e03b667de1",
   "metadata": {},
   "outputs": [],
   "source": [
    "def res_par_all(n):\n",
    "    lis_par = [res_par(n, l) for l in range(2, n)]\n",
    "    return lis_par"
   ]
  },
  {
   "cell_type": "markdown",
   "id": "2a115e13-1993-49ca-8752-e1306e672c3e",
   "metadata": {},
   "source": [
    "We now need to distribute L over these degrees, which means finding restricted partitions of 2(N-L-1) with N-L elements rp(j)<=degrees(j)"
   ]
  },
  {
   "cell_type": "code",
   "execution_count": 8,
   "id": "f44e51d3-196f-4b46-8455-c6c6b991dc0f",
   "metadata": {},
   "outputs": [],
   "source": [
    "def fit_list(deg, p):\n",
    "    return all([deg[j] >= p[j] for j in range(len(deg))])"
   ]
  },
  {
   "cell_type": "code",
   "execution_count": 9,
   "id": "77d43bca-0aac-44ef-be87-19c8e2f0bf9f",
   "metadata": {},
   "outputs": [],
   "source": [
    "def subtract_dict(deg, p):\n",
    "    net_dict = {}\n",
    "    for j in range(len(deg)):\n",
    "        if deg[j] in net_dict:\n",
    "            temp_list = net_dict[deg[j]] + [deg[j] - p[j]]\n",
    "            temp_list.sort()\n",
    "            net_dict[deg[j]] = temp_list\n",
    "        else:\n",
    "            net_dict[deg[j]] = [deg[j] - p[j]]\n",
    "    return net_dict"
   ]
  },
  {
   "cell_type": "code",
   "execution_count": 10,
   "id": "0a206365-0ba0-4005-ace6-0d5a73940c3e",
   "metadata": {},
   "outputs": [],
   "source": [
    "def res_par_max_dict(n, l, deg):\n",
    "    n_nucl = len(deg)\n",
    "    lis_par = list(accel_asc(2 * (n - l - 1)))\n",
    "    sel_par = [p for p in lis_par if (len(p) == n_nucl)]\n",
    "    # Permutations!\n",
    "    perm_par = list(set(permutations(sel_par[0])))\n",
    "    if len(sel_par) > 1:\n",
    "        for s in sel_par:\n",
    "            perm_par = list(set(perm_par + list(set(permutations(s)))))\n",
    "    fit_par = [p for p in perm_par if fit_list(deg, p)]\n",
    "    num_list = []\n",
    "    for p in fit_par:\n",
    "        new_elem = subtract_dict(deg, p)\n",
    "        if new_elem not in num_list:\n",
    "            num_list = num_list + [new_elem]\n",
    "    return num_list"
   ]
  },
  {
   "cell_type": "code",
   "execution_count": 11,
   "id": "96aa63ae-9f80-4d55-ba06-aa8872f0c6f8",
   "metadata": {},
   "outputs": [],
   "source": [
    "def flatten(xs):\n",
    "    for x in xs:\n",
    "        if isinstance(x, Iterable) and not isinstance(x, (str, bytes)):\n",
    "            yield from flatten(x)\n",
    "        else:\n",
    "            yield x"
   ]
  },
  {
   "cell_type": "code",
   "execution_count": 12,
   "id": "77350e52-657f-466c-980a-d4d5790f0e36",
   "metadata": {},
   "outputs": [],
   "source": [
    "def res_par_max_list(n, l, deg):\n",
    "    n_nucl = len(deg)\n",
    "    lis_par = list(accel_asc(2 * (n - l - 1)))\n",
    "    sel_par = [p for p in lis_par if (len(p) == n_nucl)]\n",
    "    # Permutations!\n",
    "    perm_par = list(set(permutations(sel_par[0])))\n",
    "    if len(sel_par) > 1:\n",
    "        for s in sel_par:\n",
    "            perm_par = list(set(perm_par + list(set(permutations(s)))))\n",
    "    fit_par = [p for p in perm_par if fit_list(deg, p)]\n",
    "    num_list = []\n",
    "    for p in fit_par:\n",
    "        new_elem = subtract_dict(deg, p)\n",
    "        if new_elem not in num_list:\n",
    "            num_list = num_list + [new_elem]\n",
    "    return [list(flatten(list(elem.values()))) for elem in num_list]"
   ]
  },
  {
   "cell_type": "code",
   "execution_count": 13,
   "id": "5ba6bcee-bb1f-47b3-aec5-4df9c7fe5252",
   "metadata": {},
   "outputs": [],
   "source": [
    "def res_numdeg_all(n):\n",
    "    deg_list = res_par_all(n)\n",
    "    numdeg_list = [[[deg, res_par_max_list(n, n - len(deg), deg)] for deg in deg_l] for deg_l in deg_list]\n",
    "    return numdeg_list"
   ]
  },
  {
   "cell_type": "code",
   "execution_count": 14,
   "id": "9f585cf3-c39c-45aa-9a0b-bd9f575bb7c6",
   "metadata": {},
   "outputs": [],
   "source": [
    "def res_numdeg_all_count(n):\n",
    "    deg_list = res_par_all(n)\n",
    "    numdeg_list = [sum([len(res_par_max_list(n, n - len(deg), deg)) for deg in deg_l]) for deg_l in deg_list]\n",
    "    return numdeg_list"
   ]
  },
  {
   "cell_type": "markdown",
   "id": "f396dd7e-b4b4-409b-956a-136f33c2e4e0",
   "metadata": {
    "incorrectly_encoded_metadata": "jp-MarkdownHeadingCollapsed=true",
    "tags": []
   },
   "source": [
    "#### Examples"
   ]
  },
  {
   "cell_type": "markdown",
   "id": "844dc222-f23c-4750-97fb-5ead208d7783",
   "metadata": {},
   "source": [
    "Restricted partitions for n=8"
   ]
  },
  {
   "cell_type": "code",
   "execution_count": 15,
   "id": "79590e2e-0480-4c58-95aa-eb3ae9170ab4",
   "metadata": {},
   "outputs": [
    {
     "data": {
      "text/plain": [
       "[[[2, 2, 2, 2, 2, 2]],\n",
       " [[2, 2, 2, 2, 3]],\n",
       " [[2, 2, 2, 4], [2, 2, 3, 3]],\n",
       " [[2, 2, 5], [2, 3, 4], [3, 3, 3]],\n",
       " [[2, 6], [3, 5], [4, 4]],\n",
       " [[7]]]"
      ]
     },
     "execution_count": 15,
     "metadata": {},
     "output_type": "execute_result"
    }
   ],
   "source": [
    "res_par_all(8)"
   ]
  },
  {
   "cell_type": "markdown",
   "id": "a5d46ab3-76de-4d39-ba06-f002d6a5266f",
   "metadata": {},
   "source": [
    "Restricted partitions and their admissable kernels for n=8"
   ]
  },
  {
   "cell_type": "code",
   "execution_count": 16,
   "id": "84326813-763f-47ff-a650-b5f1d65516bc",
   "metadata": {},
   "outputs": [
    {
     "data": {
      "text/plain": [
       "[[[[2, 2, 2, 2, 2, 2], [[0, 0, 0, 0, 1, 1]]]],\n",
       " [[[2, 2, 2, 2, 3], [[0, 1, 1, 1, 0], [0, 0, 1, 1, 1], [0, 0, 0, 1, 2]]]],\n",
       " [[[2, 2, 2, 4], [[0, 1, 1, 2], [0, 0, 1, 3], [1, 1, 1, 1]]],\n",
       "  [[2, 2, 3, 3], [[0, 1, 1, 2], [1, 1, 0, 2], [0, 0, 2, 2], [1, 1, 1, 1]]]],\n",
       " [[[2, 2, 5], [[0, 1, 4], [1, 1, 3]]],\n",
       "  [[2, 3, 4], [[1, 1, 3], [0, 2, 3], [1, 2, 2]]],\n",
       "  [[3, 3, 3], [[1, 2, 2]]]],\n",
       " [[[2, 6], [[1, 5]]], [[3, 5], [[2, 4]]], [[4, 4], [[3, 3]]]],\n",
       " [[[7], [[7]]]]]"
      ]
     },
     "execution_count": 16,
     "metadata": {},
     "output_type": "execute_result"
    }
   ],
   "source": [
    "res_numdeg_all(8)"
   ]
  },
  {
   "cell_type": "markdown",
   "id": "ec0cb49c-8a57-4d09-aaa6-bea14731e9b2",
   "metadata": {},
   "source": [
    "Number of admissable kernels for n=8"
   ]
  },
  {
   "cell_type": "code",
   "execution_count": 17,
   "id": "d761ceef-d62e-4970-a830-db1e6c1a7a9a",
   "metadata": {},
   "outputs": [
    {
     "data": {
      "text/plain": [
       "[1, 3, 7, 6, 3, 1]"
      ]
     },
     "execution_count": 17,
     "metadata": {},
     "output_type": "execute_result"
    }
   ],
   "source": [
    "res_numdeg_all_count(8)"
   ]
  },
  {
   "cell_type": "markdown",
   "id": "08b18c6b-178c-4f24-a3af-3bc599abbbe1",
   "metadata": {},
   "source": [
    "Totals of admissable kernels, n from 3 to 12"
   ]
  },
  {
   "cell_type": "code",
   "execution_count": 18,
   "id": "a896c950-f510-4d29-8a59-c1aee11513bb",
   "metadata": {},
   "outputs": [
    {
     "name": "stdout",
     "output_type": "stream",
     "text": [
      "CPU times: user 4.04 s, sys: 11.4 ms, total: 4.05 s\n",
      "Wall time: 4.05 s\n"
     ]
    },
    {
     "data": {
      "text/plain": [
       "[[3, 1],\n",
       " [4, 2],\n",
       " [5, 3],\n",
       " [6, 6],\n",
       " [7, 11],\n",
       " [8, 21],\n",
       " [9, 38],\n",
       " [10, 70],\n",
       " [11, 123],\n",
       " [12, 216]]"
      ]
     },
     "execution_count": 18,
     "metadata": {},
     "output_type": "execute_result"
    }
   ],
   "source": [
    "%%time\n",
    "\n",
    "[[n, sum(res_numdeg_all_count(n))] for n in range(3, 12 + 1)]"
   ]
  },
  {
   "cell_type": "markdown",
   "id": "b4366af9-de50-4cd0-b2b5-5688a19d3222",
   "metadata": {
    "tags": []
   },
   "source": [
    "### Networks"
   ]
  },
  {
   "cell_type": "markdown",
   "id": "70eac797-92d5-434e-8f8e-b091bac42232",
   "metadata": {},
   "source": [
    "#### Number of free trees with n unlabeled nodes (A000055)"
   ]
  },
  {
   "cell_type": "code",
   "execution_count": 19,
   "id": "42ab3586-b542-47fd-9a37-ba13a2aed38f",
   "metadata": {},
   "outputs": [],
   "source": [
    "# del s55"
   ]
  },
  {
   "cell_type": "code",
   "execution_count": 20,
   "id": "c452c420-50b0-4dfc-938b-432b0a20abbe",
   "metadata": {},
   "outputs": [],
   "source": [
    "# del c55"
   ]
  },
  {
   "cell_type": "code",
   "execution_count": 21,
   "id": "57731cb3-5ec6-468a-a806-3abe3be5e8c8",
   "metadata": {},
   "outputs": [],
   "source": [
    "# del cs55"
   ]
  },
  {
   "cell_type": "code",
   "execution_count": 22,
   "id": "824ba4ee-69e1-4457-b668-5c0a860b0366",
   "metadata": {},
   "outputs": [],
   "source": [
    "@functools.cache\n",
    "def s55(n, k):\n",
    "    if n < 2 * k:\n",
    "        return c55(n + 1 - k)\n",
    "    else:\n",
    "        return c55(n + 1 - k) + s55(n - k, k)"
   ]
  },
  {
   "cell_type": "code",
   "execution_count": 23,
   "id": "eeb95636-f656-4e67-bd25-6a38806ed1c0",
   "metadata": {},
   "outputs": [],
   "source": [
    "@functools.cache\n",
    "def c55(n):\n",
    "    if n == 1:\n",
    "        return 1\n",
    "    else:\n",
    "        ans = 0\n",
    "        for i in range(1, n):\n",
    "            ans = ans + c55(i) * s55(n - 1, i) * i\n",
    "        return ans // (n - 1)"
   ]
  },
  {
   "cell_type": "code",
   "execution_count": 24,
   "id": "355d2834-0ea1-4a69-9b6d-bfaf0958b87b",
   "metadata": {},
   "outputs": [],
   "source": [
    "@functools.cache\n",
    "def cs55(n):\n",
    "    ans = c55(n)\n",
    "    for j in range(1, n // 2 + 1):\n",
    "        ans = ans - c55(j) * c55(n - j)\n",
    "    if n % 2 == 0:\n",
    "        return ans + c55(n // 2) * (c55(n // 2) + 1) // 2\n",
    "    else:\n",
    "        return ans"
   ]
  },
  {
   "cell_type": "code",
   "execution_count": 25,
   "id": "41e0e415-0f93-4987-be0c-923d370a2f8b",
   "metadata": {},
   "outputs": [
    {
     "data": {
      "text/plain": [
       "[[3, 1, 1],\n",
       " [4, 2, 2],\n",
       " [5, 3, 3],\n",
       " [6, 6, 6],\n",
       " [7, 11, 11],\n",
       " [8, 23, 21],\n",
       " [9, 47, 38],\n",
       " [10, 106, 70],\n",
       " [11, 235, 123],\n",
       " [12, 551, 216]]"
      ]
     },
     "execution_count": 25,
     "metadata": {},
     "output_type": "execute_result"
    }
   ],
   "source": [
    "[[n, cs55(n), sum(res_numdeg_all_count(n))] for n in range(3, 12 + 1)]"
   ]
  },
  {
   "cell_type": "code",
   "execution_count": 26,
   "id": "cc683e84-1e3a-4765-8abe-866c6a8f06a6",
   "metadata": {},
   "outputs": [
    {
     "data": {
      "text/plain": [
       "[[1, 1],\n",
       " [2, 1],\n",
       " [3, 1],\n",
       " [4, 2],\n",
       " [5, 3],\n",
       " [6, 6],\n",
       " [7, 11],\n",
       " [8, 23],\n",
       " [9, 47],\n",
       " [10, 106],\n",
       " [11, 235],\n",
       " [12, 551],\n",
       " [13, 1301],\n",
       " [14, 3159],\n",
       " [15, 7741],\n",
       " [16, 19320],\n",
       " [17, 48629],\n",
       " [18, 123867],\n",
       " [19, 317955],\n",
       " [20, 823065]]"
      ]
     },
     "execution_count": 26,
     "metadata": {},
     "output_type": "execute_result"
    }
   ],
   "source": [
    "[[n, cs55(n)] for n in range(1, 21)]"
   ]
  },
  {
   "cell_type": "code",
   "execution_count": 27,
   "id": "b2abed4b-a8d3-48c0-b5c1-482f31e9ecc6",
   "metadata": {},
   "outputs": [
    {
     "name": "stdout",
     "output_type": "stream",
     "text": [
      "CPU times: user 8.42 ms, sys: 3.49 ms, total: 11.9 ms\n",
      "Wall time: 10.8 ms\n"
     ]
    },
    {
     "data": {
      "text/plain": [
       "630134658347465720563607281977639527019590"
      ]
     },
     "execution_count": 27,
     "metadata": {},
     "output_type": "execute_result"
    }
   ],
   "source": [
    "%%time\n",
    "\n",
    "cs55(100)"
   ]
  },
  {
   "cell_type": "code",
   "execution_count": null,
   "id": "c8070270-147d-4568-8142-962a3005f2cb",
   "metadata": {},
   "outputs": [],
   "source": []
  }
 ],
 "metadata": {
  "jupytext": {
   "formats": "ipynb,auto:percent"
  },
  "kernelspec": {
   "display_name": "Python 3 (ipykernel)",
   "language": "python",
   "name": "python3"
  },
  "language_info": {
   "codemirror_mode": {
    "name": "ipython",
    "version": 3
   },
   "file_extension": ".py",
   "mimetype": "text/x-python",
   "name": "python",
   "nbconvert_exporter": "python",
   "pygments_lexer": "ipython3",
   "version": "3.10.6"
  }
 },
 "nbformat": 4,
 "nbformat_minor": 5
}
